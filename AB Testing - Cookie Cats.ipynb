{
 "cells": [
  {
   "cell_type": "markdown",
   "metadata": {
    "papermill": {
     "duration": 0.017163,
     "end_time": "2024-06-15T06:43:46.052035",
     "exception": false,
     "start_time": "2024-06-15T06:43:46.034872",
     "status": "completed"
    },
    "tags": []
   },
   "source": [
    "# A/B Testing Project: Cookie Cats  \n",
    "\n",
    "## Introduction to A/B Testing  \n",
    "\n",
    "A/B testing, also known as split testing, is a statistical method used to compare two versions of a variable to determine which performs better in achieving a specific goal. By splitting a target audience into two groups, A (control group) and B (treatment group), each group is exposed to a different version of the variable. Metrics of interest, such as user engagement or retention, are then measured to evaluate the effectiveness of each variation. This technique is widely applied in industries like marketing, product development, and gaming to make data-driven decisions that enhance user experience and business outcomes.  \n",
    "\n",
    "## Project Background: Cookie Cats  \n",
    "\n",
    "Cookie Cats, developed by Tactile Entertainment, is a highly engaging mobile puzzle game where players connect tiles of the same color to progress through levels. The game features unique elements such as singing cats, which add charm and fun to the gameplay.  \n",
    "\n",
    "![Cookie Cats](https://m.media-amazon.com/images/I/811Xmdf4IcL.jpg)\n",
    "\n",
    "To encourage in-app purchases and enhance player engagement, Cookie Cats incorporates \"gates\" at certain levels. These gates require players to either wait for a specified period or make a purchase to proceed further. Initially, the first gate was set at level 30.  \n",
    "\n",
    "In this project, we conducted an A/B test to explore the impact of moving the first gate from level 30 to level 40. By analyzing player retention data, we aim to understand whether this adjustment improves player experience and engagement, providing insights into optimal gate placement strategies."
   ]
  },
  {
   "cell_type": "markdown",
   "metadata": {},
   "source": [
    "## A/B Testing Workflow\n",
    "1. Define Questions and Hypothesis\n",
    "2. Set Significance level and Power of test\n",
    "3. Calculate Sample Size\n",
    "4. Assign Users and Run the Experiment\n",
    "5. Get Data and Prepocess Data\n",
    "6. Interpret the Result: Perform Statistical Test \n",
    "7. From Results to Decisions"
   ]
  },
  {
   "cell_type": "markdown",
   "metadata": {},
   "source": [
    "### <span style=\"color:red;\">Step 1: Defind Questions and Hypothesis</span>\n",
    "Not all statistically significant results are practically meaningful. How big of a difference (eg. revenue-per-use, retention increase) actually matters from a business perspective? In other words, what change is practically significant? Establishing this substantive boundary is important for understanding whether the difference is worth the costs of making the change. If our app generates billions of dollars like Google and Bing, then a 0.2% change is practically significant. In comparison, a startup may consider a 2% change too small. For this project, let's state that from a business perspective, an increase of 5 game sessions per user, or 2% retention increase after 1 day, or 5% retention increase after 7 days of installation are practically significant.\n",
    "\n",
    "**Question 1: Has the average number of game sessions increased by 5 sessions?**<br>\n",
    "- Null Hypothesis ($H_0$): The average number of game sessions in the treatment group has not increased by 5 sessions compared to the control group.\n",
    "- Alternative Hypothesis ($H_1$): The average number of game sessions in the treatment group has increased by 5 sessions compared to the control group.\n",
    "\n",
    "**Question 1: Has player retention increased by 2% after 1 day of installation?**<br>\n",
    "- Null Hypothesis ($H_0$): The player retention rate one day after installation in the treatment group has not increased by 2% compared to the control group.\n",
    "- Alternative Hypothesis ($H_1$): The player retention rate one day after installation in the treatment group has increased by 2% compared to the control group.\n",
    "\n",
    "**Question 3: Has player retention increased by 5% after 7 days of installation?**<br>\n",
    "- Null Hypothesis ($H_0$): The player retention rate seven days after installation in the treatment group has not increased by 5% compared to the control group.\n",
    "- Alternative Hypothesis ($H_1$): The player retention rate seven days after installation in the treatment group has increased by 5% compared to the control group."
   ]
  },
  {
   "cell_type": "markdown",
   "metadata": {},
   "source": [
    "### <span style=\"color:red;\">Step 2: Set Significance level and Power of test</span>\n",
    "In hypothesis testing, it is crucial to set the acceptable probabilities for Type I and Type II errors to ensure the robustness of our test results.\n",
    "- Type I error (error of commission or false positive, denoted by $\\alpha$) is the probability of rejecting the null hypothesis when it is actually true. Significance level $\\alpha$ is commonly accepted at 0.05\n",
    "- Type II error (error of omission or false negative, denoted by $\\beta$) is the probability of failing to reject the null hypothesis when it is actually false. Power of test 1 - $\\beta$ is commonly accepted at 0.80\n",
    "\n",
    "Based on standard practice and the need for robust conclusions, we will use the following values for our tests:\n",
    "- Alpha ($\\alpha$): 0.05 (5%)\n",
    "- Beta ($\\beta$): 0.20 (20%)\n",
    "- Power: 0.80 (80%)"
   ]
  },
  {
   "cell_type": "markdown",
   "metadata": {},
   "source": [
    "### <span style=\"color:red;\">Step 3: Calculate Sample Size</span>\n",
    "To calculate the sample size for a binary A/B test (a test where the output is binary, such as whether a user retains or not), we need to determine the proportions of success in both the control and treatment groups.  \n",
    "\n",
    "The formula for calculating the required sample size for each group in a binary A/B test is:  \n",
    "$$ n = \\frac{2 \\cdot (Z_{\\alpha/2} + Z_{\\beta})^2 \\cdot \\bar{p} \\cdot (1 - \\bar{p})}{d^2}   $$\n",
    "Where:  \n",
    "- $p_1$: baseline retention rate\n",
    "- $p_2$: expected retention rate\n",
    "- $\\bar{p}$ = $\\frac{p_1 + p_2}{2}$: The average proportion of success across control and treatment groups.  \n",
    "- $d$ = $p_2$ - $p_1$: The minimum detectable effect (difference in proportions between treatment and control groups).  \n",
    "- $Z_{\\alpha/2}$ is the Z-score corresponding to the significance level for a two-tailed test\n",
    "- $Z_{\\beta}$ is the Z-score for the chosen power.\n",
    "\n",
    "For a one-tailed test, the Z-score we use must be $Z_{\\alpha}$. Hence, the sample size required in this problem is:\n",
    "$$ n = \\frac{2 \\cdot (Z_{\\alpha} + Z_{\\beta})^2 \\cdot \\bar{p} \\cdot (1 - \\bar{p})}{d^2} $$\n",
    "\n",
    "When we don’t know the baseline retention rate ($p_1$) and the expected retention rate ($p_2=p_1+d$), we can still calculate the required sample size by making reasonable assumptions.\n",
    "- A common approach is to assume $p_1=0.5$ (50%). This is the most conservative estimate because the variance $p(1-p)$ is maximized at $p=0.5$\n",
    "- If we later gather baseline data, we can update $p_1$ and recalculate the sample size.\n",
    "\n",
    "In this project, we only have data collected after the experiment was conducted, so the baseline retention rate prior to the experiment is unavailable. We can estimate $p_1$ using retention rate of the control group (i.e., the group of users encountering the first gate at level 30). This allows us to evaluate whether the experiment was conducted with a sufficiently large sample size."
   ]
  },
  {
   "cell_type": "code",
   "execution_count": 11,
   "metadata": {},
   "outputs": [
    {
     "data": {
      "text/html": [
       "<div>\n",
       "<style scoped>\n",
       "    .dataframe tbody tr th:only-of-type {\n",
       "        vertical-align: middle;\n",
       "    }\n",
       "\n",
       "    .dataframe tbody tr th {\n",
       "        vertical-align: top;\n",
       "    }\n",
       "\n",
       "    .dataframe thead th {\n",
       "        text-align: right;\n",
       "    }\n",
       "</style>\n",
       "<table border=\"1\" class=\"dataframe\">\n",
       "  <thead>\n",
       "    <tr style=\"text-align: right;\">\n",
       "      <th></th>\n",
       "      <th>userid</th>\n",
       "      <th>version</th>\n",
       "      <th>sum_gamerounds</th>\n",
       "      <th>retention_1</th>\n",
       "      <th>retention_7</th>\n",
       "    </tr>\n",
       "  </thead>\n",
       "  <tbody>\n",
       "    <tr>\n",
       "      <th>0</th>\n",
       "      <td>116</td>\n",
       "      <td>gate_30</td>\n",
       "      <td>3</td>\n",
       "      <td>False</td>\n",
       "      <td>False</td>\n",
       "    </tr>\n",
       "    <tr>\n",
       "      <th>1</th>\n",
       "      <td>337</td>\n",
       "      <td>gate_30</td>\n",
       "      <td>38</td>\n",
       "      <td>True</td>\n",
       "      <td>False</td>\n",
       "    </tr>\n",
       "    <tr>\n",
       "      <th>2</th>\n",
       "      <td>377</td>\n",
       "      <td>gate_40</td>\n",
       "      <td>165</td>\n",
       "      <td>True</td>\n",
       "      <td>False</td>\n",
       "    </tr>\n",
       "    <tr>\n",
       "      <th>3</th>\n",
       "      <td>483</td>\n",
       "      <td>gate_40</td>\n",
       "      <td>1</td>\n",
       "      <td>False</td>\n",
       "      <td>False</td>\n",
       "    </tr>\n",
       "    <tr>\n",
       "      <th>4</th>\n",
       "      <td>488</td>\n",
       "      <td>gate_40</td>\n",
       "      <td>179</td>\n",
       "      <td>True</td>\n",
       "      <td>True</td>\n",
       "    </tr>\n",
       "  </tbody>\n",
       "</table>\n",
       "</div>"
      ],
      "text/plain": [
       "   userid  version  sum_gamerounds  retention_1  retention_7\n",
       "0     116  gate_30               3        False        False\n",
       "1     337  gate_30              38         True        False\n",
       "2     377  gate_40             165         True        False\n",
       "3     483  gate_40               1        False        False\n",
       "4     488  gate_40             179         True         True"
      ]
     },
     "execution_count": 11,
     "metadata": {},
     "output_type": "execute_result"
    }
   ],
   "source": [
    "import pandas as pd\n",
    "import numpy as np\n",
    "from scipy.stats import skew, kurtosis\n",
    "\n",
    "# Load the dataset\n",
    "df = pd.read_csv('./cookie_cats.csv')\n",
    "df.head()"
   ]
  },
  {
   "cell_type": "markdown",
   "metadata": {},
   "source": [
    "The table above presents the results of the experiment conducted on two groups of users:\n",
    "- Column `version`: Indicate whether the player was put in the control group (`gate_30` - a gate at level 30) or the treatment group (`gate_40` - a gate at level 40)\n",
    "- Column `sum_gamerounds`: The number of game rounds played by the player during the first week after install.\n",
    "- Column `retention_1`: Did the player come back and play 1 day after installing?\n",
    "- Column `retention_7`: Did the player come back and play 7 days after installing?\n",
    "\n",
    "Let's assume the experiment was conducted with a sufficiently large sample size. We will come back to this again to calculate the required sample size after we preprocess the data in **Step 5**."
   ]
  },
  {
   "cell_type": "markdown",
   "metadata": {},
   "source": [
    "### <span style=\"color:red;\">Step 4: Assign Users and Run the Experiment</span>\n",
    "When a player installed the game, he or she was randomly assigned to either version `gate_30` or `gate_40`."
   ]
  },
  {
   "cell_type": "markdown",
   "metadata": {},
   "source": [
    "### <span style=\"color:red;\">Step 5: Get Data and Preprocess Data</span>\n",
    "- Generate summary statistics to understand the central tendency, dispersion, and distribution of the data.\n",
    "- Handle missing data, outliers, unexpected data.\n",
    "- Verify the data types of each column to ensure correctness.\n",
    "- Group the data by the `version` column and calculated descriptive statistics, including skewness and kurtosis, to understand the distribution and identify any potential outliers."
   ]
  },
  {
   "cell_type": "code",
   "execution_count": 12,
   "metadata": {},
   "outputs": [],
   "source": [
    "# Check if user_id is not repetitive\n",
    "if df['userid'].duplicated().any():\n",
    "    print(\"Duplicates found in user_id. Dropping duplicates...\")\n",
    "    df = df.drop_duplicates(subset='userid')\n",
    "\n",
    "df.set_index('userid', inplace=True)"
   ]
  },
  {
   "cell_type": "code",
   "execution_count": 13,
   "metadata": {},
   "outputs": [
    {
     "name": "stdout",
     "output_type": "stream",
     "text": [
      "Summary statistics of the dataset:\n"
     ]
    },
    {
     "data": {
      "text/html": [
       "<div>\n",
       "<style scoped>\n",
       "    .dataframe tbody tr th:only-of-type {\n",
       "        vertical-align: middle;\n",
       "    }\n",
       "\n",
       "    .dataframe tbody tr th {\n",
       "        vertical-align: top;\n",
       "    }\n",
       "\n",
       "    .dataframe thead th {\n",
       "        text-align: right;\n",
       "    }\n",
       "</style>\n",
       "<table border=\"1\" class=\"dataframe\">\n",
       "  <thead>\n",
       "    <tr style=\"text-align: right;\">\n",
       "      <th></th>\n",
       "      <th>sum_gamerounds</th>\n",
       "    </tr>\n",
       "  </thead>\n",
       "  <tbody>\n",
       "    <tr>\n",
       "      <th>count</th>\n",
       "      <td>90189.000000</td>\n",
       "    </tr>\n",
       "    <tr>\n",
       "      <th>mean</th>\n",
       "      <td>51.872457</td>\n",
       "    </tr>\n",
       "    <tr>\n",
       "      <th>std</th>\n",
       "      <td>195.050858</td>\n",
       "    </tr>\n",
       "    <tr>\n",
       "      <th>min</th>\n",
       "      <td>0.000000</td>\n",
       "    </tr>\n",
       "    <tr>\n",
       "      <th>25%</th>\n",
       "      <td>5.000000</td>\n",
       "    </tr>\n",
       "    <tr>\n",
       "      <th>50%</th>\n",
       "      <td>16.000000</td>\n",
       "    </tr>\n",
       "    <tr>\n",
       "      <th>75%</th>\n",
       "      <td>51.000000</td>\n",
       "    </tr>\n",
       "    <tr>\n",
       "      <th>max</th>\n",
       "      <td>49854.000000</td>\n",
       "    </tr>\n",
       "  </tbody>\n",
       "</table>\n",
       "</div>"
      ],
      "text/plain": [
       "       sum_gamerounds\n",
       "count    90189.000000\n",
       "mean        51.872457\n",
       "std        195.050858\n",
       "min          0.000000\n",
       "25%          5.000000\n",
       "50%         16.000000\n",
       "75%         51.000000\n",
       "max      49854.000000"
      ]
     },
     "execution_count": 13,
     "metadata": {},
     "output_type": "execute_result"
    }
   ],
   "source": [
    "print(\"Summary statistics of the dataset:\")\n",
    "df.describe()"
   ]
  },
  {
   "cell_type": "code",
   "execution_count": 14,
   "metadata": {},
   "outputs": [
    {
     "name": "stdout",
     "output_type": "stream",
     "text": [
      "Data types and non-null counts:\n",
      "<class 'pandas.core.frame.DataFrame'>\n",
      "Index: 90189 entries, 116 to 9999861\n",
      "Data columns (total 4 columns):\n",
      " #   Column          Non-Null Count  Dtype \n",
      "---  ------          --------------  ----- \n",
      " 0   version         90189 non-null  object\n",
      " 1   sum_gamerounds  90189 non-null  int64 \n",
      " 2   retention_1     90189 non-null  bool  \n",
      " 3   retention_7     90189 non-null  bool  \n",
      "dtypes: bool(2), int64(1), object(1)\n",
      "memory usage: 2.2+ MB\n"
     ]
    }
   ],
   "source": [
    "print(\"Data types and non-null counts:\")\n",
    "df.info()"
   ]
  },
  {
   "cell_type": "code",
   "execution_count": 17,
   "metadata": {},
   "outputs": [
    {
     "name": "stdout",
     "output_type": "stream",
     "text": [
      "Missing values in the dataset:\n"
     ]
    },
    {
     "data": {
      "text/plain": [
       "version           0\n",
       "sum_gamerounds    0\n",
       "retention_1       0\n",
       "retention_7       0\n",
       "dtype: int64"
      ]
     },
     "execution_count": 17,
     "metadata": {},
     "output_type": "execute_result"
    }
   ],
   "source": [
    "print(\"Missing values in the dataset:\")\n",
    "df.isnull().sum()"
   ]
  },
  {
   "cell_type": "code",
   "execution_count": 25,
   "metadata": {},
   "outputs": [
    {
     "name": "stdout",
     "output_type": "stream",
     "text": [
      "Descriptive Statistics (including skewness and kurtosis):\n"
     ]
    },
    {
     "data": {
      "text/plain": [
       "count       90189.000000\n",
       "mean           51.872457\n",
       "std           195.050858\n",
       "min             0.000000\n",
       "25%             5.000000\n",
       "50%            16.000000\n",
       "75%            51.000000\n",
       "max         49854.000000\n",
       "skewness      185.436313\n",
       "kurtosis    47130.369631\n",
       "Name: sum_gamerounds, dtype: float64"
      ]
     },
     "execution_count": 25,
     "metadata": {},
     "output_type": "execute_result"
    }
   ],
   "source": [
    "# Descriptive statistics with skewness and kurtosis for \"sum_gamerounds\" column\n",
    "descriptive_stats = df['sum_gamerounds'].describe().T\n",
    "descriptive_stats['skewness'] = df['sum_gamerounds'].skew()\n",
    "descriptive_stats['kurtosis'] = df['sum_gamerounds'].kurtosis()\n",
    "print(\"Descriptive Statistics (including skewness and kurtosis):\")\n",
    "descriptive_stats"
   ]
  },
  {
   "cell_type": "markdown",
   "metadata": {},
   "source": [
    ">- Positive skewness (>0): The tail on the right side of the distribution is longer or fatter. This indicates that the data has more extreme high values.\n",
    ">- High kurtosis (>3): The distribution has heavy tails and more extreme outliers (leptokurtic)."
   ]
  },
  {
   "cell_type": "code",
   "execution_count": 30,
   "metadata": {},
   "outputs": [
    {
     "name": "stdout",
     "output_type": "stream",
     "text": [
      "Percentage of each user group in 'version':\n",
      "version\n",
      "gate_40    50.437415\n",
      "gate_30    49.562585\n",
      "Name: proportion, dtype: float64\n",
      "\n",
      "Percentage of each category in 'retention_1':\n",
      "retention_1\n",
      "False    55.47905\n",
      "True     44.52095\n",
      "Name: proportion, dtype: float64\n",
      "\n",
      "Percentage of each category in 'retention_7':\n",
      "retention_7\n",
      "False    81.393518\n",
      "True     18.606482\n",
      "Name: proportion, dtype: float64\n"
     ]
    }
   ],
   "source": [
    "# Percentage of each category in categorical columns\n",
    "version_counts = df['version'].value_counts(normalize=True) * 100\n",
    "retention_1_counts = df['retention_1'].value_counts(normalize=True) * 100\n",
    "retention_7_counts = df['retention_7'].value_counts(normalize=True) * 100\n",
    "\n",
    "print(\"Percentage of each user group in 'version':\")\n",
    "print(version_counts)\n",
    "print(\"\\nPercentage of each category in 'retention_1':\")\n",
    "print(retention_1_counts)\n",
    "print(\"\\nPercentage of each category in 'retention_7':\")\n",
    "print(retention_7_counts)"
   ]
  },
  {
   "cell_type": "markdown",
   "metadata": {},
   "source": [
    "> The distribution of the `version` column is nearly equal, making it suitable for A/B testing as it ensures a balanced comparison between the control and treatment groups."
   ]
  },
  {
   "cell_type": "code",
   "execution_count": 34,
   "metadata": {},
   "outputs": [
    {
     "name": "stdout",
     "output_type": "stream",
     "text": [
      "\n",
      "Cross-tabulation for version and retention_1:\n",
      "   version  Did not return  Returned\n",
      "0  gate_30        0.551812  0.448188\n",
      "1  gate_40        0.557717  0.442283\n",
      "\n",
      "Cross-tabulation for version and retention_7:\n",
      "   version  Did not return  Returned\n",
      "0  gate_30        0.809799  0.190201\n",
      "1  gate_40        0.818000  0.182000\n"
     ]
    }
   ],
   "source": [
    "# Cross-tabulation for version and retention_1\n",
    "crosstab_retention_1 = pd.crosstab(df['version'], df['retention_1'], normalize='index')\n",
    "crosstab_retention_1.columns = ['Did not return', 'Returned']\n",
    "crosstab_retention_1 = crosstab_retention_1.reset_index()\n",
    "\n",
    "# Cross-tabulation for version and retention_7\n",
    "crosstab_retention_7 = pd.crosstab(df['version'], df['retention_7'], normalize='index')\n",
    "crosstab_retention_7.columns = ['Did not return', 'Returned']\n",
    "crosstab_retention_7 = crosstab_retention_7.reset_index()\n",
    "\n",
    "print(\"\\nCross-tabulation for version and retention_1:\")\n",
    "print(crosstab_retention_1)\n",
    "\n",
    "print(\"\\nCross-tabulation for version and retention_7:\")\n",
    "print(crosstab_retention_7)"
   ]
  },
  {
   "cell_type": "code",
   "execution_count": 109,
   "metadata": {},
   "outputs": [
    {
     "name": "stdout",
     "output_type": "stream",
     "text": [
      "Descriptive Statistics of 'sum_gamerounds' by Version\n"
     ]
    },
    {
     "data": {
      "text/html": [
       "<div>\n",
       "<style scoped>\n",
       "    .dataframe tbody tr th:only-of-type {\n",
       "        vertical-align: middle;\n",
       "    }\n",
       "\n",
       "    .dataframe tbody tr th {\n",
       "        vertical-align: top;\n",
       "    }\n",
       "\n",
       "    .dataframe thead tr th {\n",
       "        text-align: left;\n",
       "    }\n",
       "\n",
       "    .dataframe thead tr:last-of-type th {\n",
       "        text-align: right;\n",
       "    }\n",
       "</style>\n",
       "<table border=\"1\" class=\"dataframe\">\n",
       "  <thead>\n",
       "    <tr>\n",
       "      <th></th>\n",
       "      <th colspan=\"8\" halign=\"left\">sum_gamerounds</th>\n",
       "    </tr>\n",
       "    <tr>\n",
       "      <th></th>\n",
       "      <th>count</th>\n",
       "      <th>mean</th>\n",
       "      <th>std</th>\n",
       "      <th>min</th>\n",
       "      <th>25%</th>\n",
       "      <th>50%</th>\n",
       "      <th>75%</th>\n",
       "      <th>max</th>\n",
       "    </tr>\n",
       "    <tr>\n",
       "      <th>version</th>\n",
       "      <th></th>\n",
       "      <th></th>\n",
       "      <th></th>\n",
       "      <th></th>\n",
       "      <th></th>\n",
       "      <th></th>\n",
       "      <th></th>\n",
       "      <th></th>\n",
       "    </tr>\n",
       "  </thead>\n",
       "  <tbody>\n",
       "    <tr>\n",
       "      <th>gate_30</th>\n",
       "      <td>44700.0</td>\n",
       "      <td>52.456264</td>\n",
       "      <td>256.716423</td>\n",
       "      <td>0.0</td>\n",
       "      <td>5.0</td>\n",
       "      <td>17.0</td>\n",
       "      <td>50.0</td>\n",
       "      <td>49854.0</td>\n",
       "    </tr>\n",
       "    <tr>\n",
       "      <th>gate_40</th>\n",
       "      <td>45489.0</td>\n",
       "      <td>51.298776</td>\n",
       "      <td>103.294416</td>\n",
       "      <td>0.0</td>\n",
       "      <td>5.0</td>\n",
       "      <td>16.0</td>\n",
       "      <td>52.0</td>\n",
       "      <td>2640.0</td>\n",
       "    </tr>\n",
       "  </tbody>\n",
       "</table>\n",
       "</div>"
      ],
      "text/plain": [
       "        sum_gamerounds                                                      \n",
       "                 count       mean         std  min  25%   50%   75%      max\n",
       "version                                                                     \n",
       "gate_30        44700.0  52.456264  256.716423  0.0  5.0  17.0  50.0  49854.0\n",
       "gate_40        45489.0  51.298776  103.294416  0.0  5.0  16.0  52.0   2640.0"
      ]
     },
     "execution_count": 109,
     "metadata": {},
     "output_type": "execute_result"
    }
   ],
   "source": [
    "# Group by version and calculate descriptive statistics for numeric columns\n",
    "grouped_stats = df.groupby('version')[['sum_gamerounds']].describe()\n",
    "print(\"Descriptive Statistics of 'sum_gamerounds' by Version\")\n",
    "grouped_stats"
   ]
  },
  {
   "cell_type": "code",
   "execution_count": 110,
   "metadata": {},
   "outputs": [
    {
     "name": "stdout",
     "output_type": "stream",
     "text": [
      "Skewness of Sum_gamerounds by Version:\n"
     ]
    },
    {
     "data": {
      "text/plain": [
       "                version\n",
       "sum_gamerounds  gate_30    163.709871\n",
       "                gate_40      5.967288\n",
       "dtype: float64"
      ]
     },
     "execution_count": 110,
     "metadata": {},
     "output_type": "execute_result"
    }
   ],
   "source": [
    "skewness_by_version = df.groupby('version')[['sum_gamerounds']].apply(lambda x: x.skew()).unstack()\n",
    "print(\"Skewness of Sum_gamerounds by Version:\")\n",
    "skewness_by_version"
   ]
  },
  {
   "cell_type": "code",
   "execution_count": 111,
   "metadata": {},
   "outputs": [
    {
     "name": "stdout",
     "output_type": "stream",
     "text": [
      "Kurtosis of Sum_gamerounds by Version:\n"
     ]
    },
    {
     "data": {
      "text/plain": [
       "                version\n",
       "sum_gamerounds  gate_30    31688.380643\n",
       "                gate_40       63.106084\n",
       "dtype: float64"
      ]
     },
     "execution_count": 111,
     "metadata": {},
     "output_type": "execute_result"
    }
   ],
   "source": [
    "kurtosis_by_version = df.groupby('version')[['sum_gamerounds']].apply(lambda x: x.kurtosis()).unstack()\n",
    "print(\"Kurtosis of Sum_gamerounds by Version:\")\n",
    "kurtosis_by_version"
   ]
  },
  {
   "cell_type": "markdown",
   "metadata": {},
   "source": [
    ">The `sum_gamerounds` column is highly skewed and has a high kurtosis value, indicating that while most users play a small number of rounds, there are outliers who play a significantly larger number of rounds. This skewness and the presence of outliers can impact the analysis and should be taken into consideration during hypothesis testing."
   ]
  },
  {
   "cell_type": "code",
   "execution_count": 136,
   "metadata": {},
   "outputs": [
    {
     "data": {
      "image/png": "[encoded data removed]",
      "text/plain": [
       "<Figure size 1000x500 with 3 Axes>"
      ]
     },
     "metadata": {},
     "output_type": "display_data"
    }
   ],
   "source": [
    "import matplotlib.pyplot as plt\n",
    "import seaborn as sns\n",
    "\n",
    "sns.set_style(\"darkgrid\")\n",
    "fig, axes = plt.subplots(1, 3, figsize=(10, 5))\n",
    "fig.suptitle('Data Distributions by Version', fontsize=12)\n",
    "\n",
    "# Visualization of sum_gamerounds by version\n",
    "sns.boxplot(ax=axes[0], x='version', y='sum_gamerounds', data=df, palette='viridis', hue='version')\n",
    "axes[0].set_title('Sum of game rounds by Version')\n",
    "axes[0].set_xlabel('Version')\n",
    "axes[0].set_ylabel('Sum of game rounds')\n",
    "axes[0].set_yscale('log')\n",
    "\n",
    "# Visualization of retention_1 by version\n",
    "retention_1_by_version = df.groupby(['version', 'retention_1']).size().reset_index(name='counts')\n",
    "retention_1_by_version['percentage'] = retention_1_by_version['counts'] / retention_1_by_version.groupby('version')['counts'].transform('sum') * 100\n",
    "sns.barplot(ax=axes[1], x='version', y='percentage', hue='retention_1', data=retention_1_by_version, palette='viridis')\n",
    "for p in axes[1].patches:\n",
    "    height = p.get_height()\n",
    "    axes[1].text(p.get_x() + p.get_width() / 2., height + 1, f'{height:.1f}%', ha='center', va='bottom')\n",
    "axes[1].set_title('Retention: 1 Day After Installation')\n",
    "axes[1].set_xlabel('Version')\n",
    "axes[1].set_ylabel('Retention_1 Rate (%)')\n",
    "\n",
    "# Visualization of retention_7 by version\n",
    "retention_7_by_version = df.groupby(['version', 'retention_7']).size().reset_index(name='counts')\n",
    "retention_7_by_version['percentage'] = retention_7_by_version['counts'] / retention_7_by_version.groupby('version')['counts'].transform('sum') * 100\n",
    "sns.barplot(ax=axes[2], x='version', y='percentage', hue='retention_7', data=retention_7_by_version, palette='viridis')\n",
    "for p in axes[2].patches:\n",
    "    height = p.get_height()\n",
    "    axes[2].text(p.get_x() + p.get_width() / 2., height + 1, f'{height:.1f}%', ha='center', va='bottom')\n",
    "axes[2].set_xlabel('Version')\n",
    "axes[2].set_ylabel('Retention_7 Rate (%)')\n",
    "\n",
    "plt.tight_layout(rect=[0, 0.03, 1, 0.95])\n",
    "plt.show()"
   ]
  },
  {
   "cell_type": "markdown",
   "metadata": {},
   "source": [
    ">The retention rate appears to have decreased in the treatment group compared to the control group. However, this observation alone is insufficient to draw conclusions. A statistical test is needed to determine whether this difference is significant or could have occurred by chance."
   ]
  },
  {
   "cell_type": "markdown",
   "metadata": {},
   "source": [
    ">To ensure our analysis is not skewed by extreme values, we will use the Interquartile Range (IQR) method to remove outliers from our dataset. \n",
    ">To ensure unbiased results in A/B testing, preprocessing steps like outlier handling and missing value imputation should be performed after splitting the data. This practice maintains the independence of control and treatment groups and ensures fair and tailored processing for each group."
   ]
  },
  {
   "cell_type": "code",
   "execution_count": 145,
   "metadata": {},
   "outputs": [
    {
     "name": "stdout",
     "output_type": "stream",
     "text": [
      "Original control group shape: (39493, 4)\n",
      "> Cleaned control group shape: (37251, 4)\n",
      "> Filtered 2242 users in control group\n",
      "\n",
      "Original treatment group shape: (40471, 4)\n",
      "> Cleaned treatment group shape: (37579, 4)\n",
      "> Filtered 2892 users in treatment group\n"
     ]
    }
   ],
   "source": [
    "# Separate control and treatment groups\n",
    "control_group = df[df['version'] == 'gate_30']\n",
    "treatment_group = df[df['version'] == 'gate_40']\n",
    "\n",
    "# Define a function to remove outliers using the IQR method\n",
    "def remove_outliers_iqr(data, column):\n",
    "    Q1 = data[column].quantile(0.25)\n",
    "    Q3 = data[column].quantile(0.75)\n",
    "    IQR = Q3 - Q1\n",
    "    lower_bound = Q1 - 1.5 * IQR\n",
    "    upper_bound = Q3 + 1.5 * IQR\n",
    "    # Filter the data\n",
    "    filtered_data = data[(data[column] >= lower_bound) & (data[column] <= upper_bound)]\n",
    "    return filtered_data\n",
    "\n",
    "# Remove outliers for the 'sum_gamerounds' column in control and treatment groups\n",
    "control_group = remove_outliers_iqr(control_group, 'sum_gamerounds')\n",
    "treatment_group = remove_outliers_iqr(treatment_group, 'sum_gamerounds')\n",
    "\n",
    "# Check the shape of the cleaned data\n",
    "print(f\"Original control group shape: {df[df['version'] == 'gate_30'].shape}\")\n",
    "print(f\"> Cleaned control group shape: {control_group.shape}\")\n",
    "print(f\"> Filtered {df[df['version'] == 'gate_30'].shape[0] - control_group.shape[0]} users in control group\")\n",
    "print(f\"\\nOriginal treatment group shape: {df[df['version'] == 'gate_40'].shape}\")\n",
    "print(f\"> Cleaned treatment group shape: {treatment_group.shape}\")\n",
    "print(f\"> Filtered {df[df['version'] == 'gate_40'].shape[0] - treatment_group.shape[0]} users in treatment group\")"
   ]
  },
  {
   "cell_type": "code",
   "execution_count": 146,
   "metadata": {},
   "outputs": [
    {
     "name": "stdout",
     "output_type": "stream",
     "text": [
      "Shape of the concatenated dataframe: (74830, 4)\n",
      "         version  sum_gamerounds  retention_1  retention_7\n",
      "userid                                                    \n",
      "1631714  gate_30              38        False         True\n",
      "2417878  gate_40               0        False        False\n",
      "9735356  gate_30              63         True        False\n",
      "858349   gate_40              39         True        False\n",
      "5635262  gate_30               9        False        False\n"
     ]
    }
   ],
   "source": [
    "# Concatenate the cleaned control and treatment groups\n",
    "df = pd.concat([control_group, treatment_group])\n",
    "\n",
    "# Verify the concatenation\n",
    "print(f\"Shape of the concatenated dataframe: {df.shape}\")\n",
    "print(df.sample(5))"
   ]
  },
  {
   "cell_type": "code",
   "execution_count": 147,
   "metadata": {},
   "outputs": [
    {
     "name": "stdout",
     "output_type": "stream",
     "text": [
      "Descriptive Statistics with Skewness and Kurtosis by Version:\n",
      "           level_0 level_1  version                                         0\n",
      "0   sum_gamerounds   count  gate_30                                   37251.0\n",
      "1   sum_gamerounds   count  gate_40                                   37579.0\n",
      "2   sum_gamerounds    mean  gate_30                                 19.129392\n",
      "3   sum_gamerounds    mean  gate_40                                 18.500279\n",
      "4   sum_gamerounds     std  gate_30                                 19.779154\n",
      "5   sum_gamerounds     std  gate_40                                 19.523153\n",
      "6   sum_gamerounds     min  gate_30                                       0.0\n",
      "7   sum_gamerounds     min  gate_40                                       0.0\n",
      "8   sum_gamerounds     25%  gate_30                                       4.0\n",
      "9   sum_gamerounds     25%  gate_40                                       4.0\n",
      "10  sum_gamerounds     50%  gate_30                                      12.0\n",
      "11  sum_gamerounds     50%  gate_40                                      11.0\n",
      "12  sum_gamerounds     75%  gate_30                                      29.0\n",
      "13  sum_gamerounds     75%  gate_40                                      27.0\n",
      "14  sum_gamerounds     max  gate_30                                      81.0\n",
      "15  sum_gamerounds     max  gate_40                                      79.0\n",
      "16        skewness                   [1.2483479465421206, 1.2952921841443568]\n",
      "17        kurtosis                   [0.7054535281556964, 0.7871296885966275]\n"
     ]
    }
   ],
   "source": [
    "# Group by version and calculate descriptive statistics for numeric columns\n",
    "grouped_stats = df.groupby('version')[[\"sum_gamerounds\"]].describe()\n",
    "\n",
    "# Additional skewness and kurtosis by version\n",
    "skewness_by_version = df.groupby('version')[[\"sum_gamerounds\"]].apply(lambda x: x.skew()).unstack()\n",
    "kurtosis_by_version = df.groupby('version')[[\"sum_gamerounds\"]].apply(lambda x: x.kurtosis()).unstack()\n",
    "\n",
    "# Combine descriptive statistics with skewness and kurtosis\n",
    "grouped_stats = grouped_stats.unstack().T\n",
    "grouped_stats['skewness'] = skewness_by_version.T.values.flatten()\n",
    "grouped_stats['kurtosis'] = kurtosis_by_version.T.values.flatten()\n",
    "grouped_stats = grouped_stats.reset_index()\n",
    "\n",
    "print(\"Descriptive Statistics with Skewness and Kurtosis by Version:\")\n",
    "print(grouped_stats)"
   ]
  },
  {
   "cell_type": "markdown",
   "metadata": {},
   "source": [
    ">The distribution now has light tails and fewer extreme outliers (kurtosis < 3)\n",
    ">\n",
    ">Now go back to the sample size evaluation, we need to verify if the sample size of the experiment is sufficiently large."
   ]
  },
  {
   "cell_type": "code",
   "execution_count": 159,
   "metadata": {},
   "outputs": [
    {
     "name": "stdout",
     "output_type": "stream",
     "text": [
      "Required sample size for average number of game sessions test: 242\n"
     ]
    }
   ],
   "source": [
    "import numpy as np\n",
    "import scipy.stats as stats\n",
    "\n",
    "# Required Sample Size: Hypothesis 1\n",
    "\n",
    "# Define alpha, beta, and power\n",
    "alpha = 0.05\n",
    "beta = 0.20\n",
    "power = 1 - beta\n",
    "\n",
    "# Z-scores for the significance level (alpha) and power\n",
    "Z_alpha = stats.norm.ppf(1 - alpha / 2)\n",
    "Z_beta = stats.norm.ppf(power)\n",
    "\n",
    "# Define effect size for \"sum_gamerounds\"\n",
    "effect_size_sessions = 5  # Difference in average number of sessions\n",
    "\n",
    "std_dev_sessions = pd.concat([control_group['sum_gamerounds'],treatment_group['sum_gamerounds']]).std()\n",
    "\n",
    "n_sessions = int(((Z_alpha + Z_beta) * std_dev_sessions / effect_size_sessions) ** 2 * 2)\n",
    "\n",
    "print(f\"Required sample size for average number of game sessions test: {n_sessions}\")"
   ]
  },
  {
   "cell_type": "code",
   "execution_count": 160,
   "metadata": {},
   "outputs": [
    {
     "name": "stdout",
     "output_type": "stream",
     "text": [
      "Required sample size for retention rate after 1 day test: 9136\n",
      "Required sample size for retention rate after 7 days test: 660\n"
     ]
    }
   ],
   "source": [
    "# Required Sample Size: Hypothesis 2 and 3\n",
    "\n",
    "# Baseline and expected proportions for retention rates\n",
    "p1_retention_1 = control_group['retention_1'].mean()\n",
    "p2_retention_1 = p1_retention_1 + 0.02  # 2% increase for retention after 1 day\n",
    "\n",
    "p1_retention_7 = control_group['retention_7'].mean()\n",
    "p2_retention_7 = p1_retention_7 + 0.05  # 5% increase for retention after 7 days\n",
    "\n",
    "# Function to calculate sample size for binary outcome\n",
    "def calculate_sample_size_binary(p1, p2, Z_alpha, Z_beta):\n",
    "    pooled_prob = (p1 + p2) / 2\n",
    "    return int(((Z_alpha * (2 * pooled_prob * (1 - pooled_prob)) ** 0.5 + Z_beta * (p1 * (1 - p1) + p2 * (1 - p2)) ** 0.5) / (p1 - p2)) ** 2)\n",
    "\n",
    "# Calculate sample sizes\n",
    "n_retention_1 = calculate_sample_size_binary(p1_retention_1, p2_retention_1, Z_alpha, Z_beta)\n",
    "n_retention_7 = calculate_sample_size_binary(p1_retention_7, p2_retention_7, Z_alpha, Z_beta)\n",
    "\n",
    "print(f\"Required sample size for retention rate after 1 day test: {n_retention_1}\")\n",
    "print(f\"Required sample size for retention rate after 7 days test: {n_retention_7}\")\n"
   ]
  },
  {
   "cell_type": "markdown",
   "metadata": {},
   "source": [
    ">By running the experiment with 37k users per group instead of 9k users or less, the test likely has greater power, reducing the risk of Type II errors (failing to detect a real effect). However, testing with excessively large samples can make even trivial differences statistically significant, which may not be practically meaningful.\n",
    ">\n",
    "> Hence, we need to randomly select users from the control and treatment groups based on the calculated sample size. This ensures that each group has an equal representation of users, and the test results are reliable."
   ]
  },
  {
   "cell_type": "code",
   "execution_count": 163,
   "metadata": {},
   "outputs": [
    {
     "name": "stdout",
     "output_type": "stream",
     "text": [
      "Sample size for control group (sum of game rounds): 242\n",
      "Sample size for treatment group (sum of game rounds): 242\n"
     ]
    }
   ],
   "source": [
    "# Randomly select users for control and treatment groups based on the calculated sample size for sum of game rounds\n",
    "control_users_gamerounds = control_group.sample(n=int(n_sessions), random_state=42)\n",
    "treatment_users_gamerounds = treatment_group.sample(n=int(n_sessions), random_state=42)\n",
    "\n",
    "# Verify the sample sizes\n",
    "print(f\"Sample size for control group (sum of game rounds): {len(control_users_gamerounds)}\")\n",
    "print(f\"Sample size for treatment group (sum of game rounds): {len(treatment_users_gamerounds)}\")"
   ]
  },
  {
   "cell_type": "code",
   "execution_count": 161,
   "metadata": {},
   "outputs": [
    {
     "name": "stdout",
     "output_type": "stream",
     "text": [
      "Sample size for control group (retention 1 day): 9136\n",
      "Sample size for treatment group (retention 1 day): 9136\n"
     ]
    }
   ],
   "source": [
    "# Set random seed for reproducibility\n",
    "np.random.seed(42)\n",
    "\n",
    "# Randomly select users for control and treatment groups based on the calculated sample size for retention after 1 day\n",
    "control_users_retention_1 = control_group.sample(n=int(n_retention_1), random_state=42)\n",
    "treatment_users_retention_1 = treatment_group.sample(n=int(n_retention_1), random_state=42)\n",
    "\n",
    "# Verify the sample sizes\n",
    "print(f\"Sample size for control group (retention 1 day): {len(control_users_retention_1)}\")\n",
    "print(f\"Sample size for treatment group (retention 1 day): {len(treatment_users_retention_1)}\")"
   ]
  },
  {
   "cell_type": "code",
   "execution_count": 162,
   "metadata": {},
   "outputs": [
    {
     "name": "stdout",
     "output_type": "stream",
     "text": [
      "Sample size for control group (retention 7 days): 660\n",
      "Sample size for treatment group (retention 7 days): 660\n"
     ]
    }
   ],
   "source": [
    "# Randomly select users for control and treatment groups based on the calculated sample size for retention after 7 days\n",
    "control_users_retention_7 = control_group.sample(n=int(n_retention_7), random_state=43)\n",
    "treatment_users_retention_7 = treatment_group.sample(n=int(n_retention_7), random_state=43)\n",
    "\n",
    "# Verify the sample sizes\n",
    "print(f\"Sample size for control group (retention 7 days): {len(control_users_retention_7)}\")\n",
    "print(f\"Sample size for treatment group (retention 7 days): {len(treatment_users_retention_7)}\")"
   ]
  },
  {
   "cell_type": "markdown",
   "metadata": {},
   "source": [
    "### <span style=\"color:red;\">Step 6: Perform statistical test and Interpret the Result</span>"
   ]
  },
  {
   "cell_type": "markdown",
   "metadata": {},
   "source": [
    "#### 1. Perform A/B Test for Sum of Game Rounds\n",
    "Question: Has the average number of game sessions increased by 5 sessions?\n",
    "\n",
    "To determine if the average number of game sessions has increased by 5 sessions in the treatment group compared to the control group, we will perform a two-sample t-test.\n",
    "\n",
    "**Assumptions for the T-Test:**\n",
    "- Independence: Observations in the sample must be independent of each other. This is typically ensured by random sampling and proper experimental design.\n",
    "- Normality: For a t-test, we assume that the samples are drawn from a normally distributed population. This assumption can be relaxed if the sample size is large (Central Limit Theorem).\n",
    "- Equal Variances: The t-test assumes that the variances of the two groups are equal. This can be tested using Levene’s test."
   ]
  },
  {
   "cell_type": "code",
   "execution_count": 173,
   "metadata": {},
   "outputs": [
    {
     "name": "stdout",
     "output_type": "stream",
     "text": [
      "Control group - Mean: 20.805785123966942, Std Dev: 21.536793943491812\n",
      "Treatment group - Mean: 17.235537190082646, Std Dev: 18.759846585222945\n",
      "\n",
      "Assumption met: The variances of the two groups are equal.\n",
      "\n",
      "T-statistic for sum of game rounds: -1.9445693474525967\n",
      "P-value for sum of game rounds: 0.9737959276335476\n",
      "\n",
      ">> Fail to reject the null hypothesis: The average number of game sessions in the treatment group is not significantly greater than in the control group.\n"
     ]
    }
   ],
   "source": [
    "from scipy.stats import ttest_ind, levene\n",
    "\n",
    "alpha = 0.05\n",
    "\n",
    "# Calculate the means and standard deviations of the sum of game rounds in both groups\n",
    "mean_control_gamerounds = control_users_gamerounds['sum_gamerounds'].mean()\n",
    "mean_treatment_gamerounds = treatment_users_gamerounds['sum_gamerounds'].mean()\n",
    "std_control_gamerounds = control_users_gamerounds['sum_gamerounds'].std()\n",
    "std_treatment_gamerounds = treatment_users_gamerounds['sum_gamerounds'].std()\n",
    "\n",
    "print(f\"Control group - Mean: {mean_control_gamerounds}, Std Dev: {std_control_gamerounds}\")\n",
    "print(f\"Treatment group - Mean: {mean_treatment_gamerounds}, Std Dev: {std_treatment_gamerounds}\")\n",
    "\n",
    "# Perform Levene's test for equality of variances\n",
    "stat, p_levene = levene(control_users_gamerounds['sum_gamerounds'], treatment_users_gamerounds['sum_gamerounds'])\n",
    "\n",
    "# Check if variances are equal\n",
    "if p_levene < alpha:\n",
    "    print(\"\\nAssumption not met: The variances of the two groups are not equal. Switching to Welch's t-test.\")\n",
    "    equal_var = False\n",
    "else:\n",
    "    print(\"\\nAssumption met: The variances of the two groups are equal.\")\n",
    "    equal_var = True\n",
    "\n",
    "# Perform a one-tailed t-test directly comparing the two groups\n",
    "t_stat_gamerounds, p_val_gamerounds = ttest_ind(treatment_users_gamerounds['sum_gamerounds'], control_users_gamerounds['sum_gamerounds'], equal_var=equal_var, alternative='greater')\n",
    "\n",
    "# Print the results\n",
    "print(f\"\\nT-statistic for sum of game rounds: {t_stat_gamerounds}\")\n",
    "print(f\"P-value for sum of game rounds: {p_val_gamerounds}\")\n",
    "\n",
    "# Determine if the result is statistically significant\n",
    "if p_val_gamerounds < alpha:\n",
    "    print(\"\\n>> Reject the null hypothesis: The average number of game sessions in the treatment group is significantly greater than in the control group.\")\n",
    "else:\n",
    "    print(\"\\n>> Fail to reject the null hypothesis: The average number of game sessions in the treatment group is not significantly greater than in the control group.\")"
   ]
  },
  {
   "cell_type": "markdown",
   "metadata": {},
   "source": [
    "#### 2. Perform A/B Test for Retention After 1 Day\n",
    "Question: Has player retention increased by 2% after 1 day?\n",
    "\n",
    "To determine if the retention rate after 1 day has increased by 2% in the treatment group compared to the control group, we will perform a Z-test for proportions.\n",
    "\n",
    "**Assumptions for the Z-Test:**\n",
    "- Independence: Observations in the sample must be independent of each other. This is typically ensured by random sampling and proper experimental design.\n",
    "- Normality: For a Z-test, we assume that the sampling distribution of the sample proportion is approximately normal. This assumption holds if the sample size is large enough, usually with both (np) and (n(1-p)) greater than 5. \n",
    "- Large Sample Size: The number of successes and failures in each group should be large enough to justify the use of the normal approximation to the binomial distribution."
   ]
  },
  {
   "cell_type": "code",
   "execution_count": 170,
   "metadata": {},
   "outputs": [
    {
     "name": "stdout",
     "output_type": "stream",
     "text": [
      "All assumptions are met for the Z-test.\n",
      "Z-statistic for retention after 1 day: -3.3866554815146537\n",
      "P-value for retention after 1 day: 0.9996462491325023\n",
      "\n",
      ">> Fail to reject the null hypothesis: The retention rate after 1 day has not significantly increased.\n"
     ]
    }
   ],
   "source": [
    "from statsmodels.stats.proportion import proportions_ztest\n",
    "\n",
    "# Define alpha \n",
    "alpha = 0.05\n",
    "\n",
    "# Calculate the observed proportions of retention in both groups\n",
    "p_control = control_users_retention_1['retention_1'].mean()\n",
    "p_treatment = treatment_users_retention_1['retention_1'].mean()\n",
    "n_control = len(control_users_retention_1)\n",
    "n_treatment = len(treatment_users_retention_1)\n",
    "\n",
    "# Ensure np and n(1-p) are greater than 5 for both groups\n",
    "assumptions_met = True\n",
    "if n_control * p_control <= 5:\n",
    "    print(\"Assumption not met: np > 5 for control group\")\n",
    "    assumptions_met = False\n",
    "if n_control * (1 - p_control) <= 5:\n",
    "    print(\"Assumption not met: n(1-p) > 5 for control group\")\n",
    "    assumptions_met = False\n",
    "if n_treatment * p_treatment <= 5:\n",
    "    print(\"Assumption not met: np > 5 for treatment group\")\n",
    "    assumptions_met = False\n",
    "if n_treatment * (1 - p_treatment) <= 5:\n",
    "    print(\"Assumption not met: n(1-p) > 5 for treatment group\")\n",
    "    assumptions_met = False\n",
    "\n",
    "if assumptions_met:\n",
    "    print(\"All assumptions are met for the Z-test.\")\n",
    "\n",
    "    # Calculate the number of successes (retained users) and the number of trials (total users) in both groups\n",
    "    successes_retention_1 = [treatment_users_retention_1['retention_1'].sum(), control_users_retention_1['retention_1'].sum()]\n",
    "    n_obs_retention_1 = [len(treatment_users_retention_1), len(control_users_retention_1)]\n",
    "\n",
    "    # Perform a one-tailed Z-test for proportions to check if the treatment is better than control\n",
    "    z_stat_retention_1, p_val_retention_1 = proportions_ztest(successes_retention_1, n_obs_retention_1, value=0, alternative='larger')\n",
    "    \n",
    "    # Print the results\n",
    "    print(f\"Z-statistic for retention after 1 day: {z_stat_retention_1}\")\n",
    "    print(f\"P-value for retention after 1 day: {p_val_retention_1}\")\n",
    "\n",
    "    # Determine if the result is statistically significant\n",
    "    if p_val_retention_1 < alpha:\n",
    "        print(\"\\n>> Reject the null hypothesis: The retention rate after 1 day has significantly increased.\")\n",
    "    else:\n",
    "        print(\"\\n>> Fail to reject the null hypothesis: The retention rate after 1 day has not significantly increased.\")\n",
    "else:\n",
    "    print(\"Z-test assumptions not met, cannot perform the test.\")"
   ]
  },
  {
   "cell_type": "markdown",
   "metadata": {},
   "source": [
    "#### 3. Perform A/B Test for Retention After 7 Days\n",
    "Question: Has player retention increased by 5% after 7 days?\n",
    "\n",
    "To determine if the retention rate after 7 days has increased by 5% in the treatment group compared to the control group, we will perform a Z-test for proportions."
   ]
  },
  {
   "cell_type": "code",
   "execution_count": 171,
   "metadata": {},
   "outputs": [
    {
     "name": "stdout",
     "output_type": "stream",
     "text": [
      "All assumptions are met for the Z-test.\n",
      "Z-statistic for retention after 7 days: -0.7339758434175743\n",
      "P-value for retention after 7 days: 0.7685182695648338\n",
      "\n",
      ">> Fail to reject the null hypothesis: The retention rate after 7 days has not significantly increased.\n"
     ]
    }
   ],
   "source": [
    "from statsmodels.stats.proportion import proportions_ztest\n",
    "\n",
    "# Define alpha \n",
    "alpha = 0.05\n",
    "\n",
    "# Check the assumptions\n",
    "# Calculate the observed proportions of retention in both groups\n",
    "p_control_7 = control_users_retention_7['retention_7'].mean()\n",
    "p_treatment_7 = treatment_users_retention_7['retention_7'].mean()\n",
    "n_control_7 = len(control_users_retention_7)\n",
    "n_treatment_7 = len(treatment_users_retention_7)\n",
    "\n",
    "# Ensure np and n(1-p) are greater than 5 for both groups\n",
    "assumptions_met = True\n",
    "if n_control_7 * p_control_7 <= 5:\n",
    "    print(\"Assumption not met: np > 5 for control group\")\n",
    "    assumptions_met = False\n",
    "if n_control_7 * (1 - p_control_7) <= 5:\n",
    "    print(\"Assumption not met: n(1-p) > 5 for control group\")\n",
    "    assumptions_met = False\n",
    "if n_treatment_7 * p_treatment_7 <= 5:\n",
    "    print(\"Assumption not met: np > 5 for treatment group\")\n",
    "    assumptions_met = False\n",
    "if n_treatment_7 * (1 - p_treatment_7) <= 5:\n",
    "    print(\"Assumption not met: n(1-p) > 5 for treatment group\")\n",
    "    assumptions_met = False\n",
    "\n",
    "if assumptions_met:\n",
    "    print(\"All assumptions are met for the Z-test.\")\n",
    "\n",
    "    # Calculate the number of successes (retained users) and the number of trials (total users) in both groups\n",
    "    successes_retention_7 = [treatment_users_retention_7['retention_7'].sum(), control_users_retention_7['retention_7'].sum()]\n",
    "    n_obs_retention_7 = [len(treatment_users_retention_7), len(control_users_retention_7)]\n",
    "\n",
    "    # Perform a one-tailed Z-test for proportions to check if the treatment is better than control\n",
    "    z_stat_retention_7, p_val_retention_7 = proportions_ztest(successes_retention_7, n_obs_retention_7, value=0, alternative='larger')\n",
    "    \n",
    "    # Print the results\n",
    "    print(f\"Z-statistic for retention after 7 days: {z_stat_retention_7}\")\n",
    "    print(f\"P-value for retention after 7 days: {p_val_retention_7}\")\n",
    "\n",
    "    # Determine if the result is statistically significant\n",
    "    if p_val_retention_7 < alpha:\n",
    "        print(\"\\n>> Reject the null hypothesis: The retention rate after 7 days has significantly increased.\")\n",
    "    else:\n",
    "        print(\"\\n>> Fail to reject the null hypothesis: The retention rate after 7 days has not significantly increased.\")\n",
    "else:\n",
    "    print(\"Z-test assumptions not met, cannot perform the test.\")"
   ]
  },
  {
   "cell_type": "markdown",
   "metadata": {
    "papermill": {
     "duration": 0.020882,
     "end_time": "2024-06-15T06:43:56.150129",
     "exception": false,
     "start_time": "2024-06-15T06:43:56.129247",
     "status": "completed"
    },
    "tags": []
   },
   "source": [
    "### <span style=\"color:red;\">Step 7: From Results to Decisions</span>\n",
    "After performing the statistical tests, we failed to reject all the null hypotheses. This indicates that the new version of the app does not improve the retention rate or the number of game rounds played by users. As a result, we have decided not to implement this version to the users."
   ]
  }
 ],
 "metadata": {
  "kaggle": {
   "accelerator": "none",
   "dataSources": [
    {
     "datasetId": 5205512,
     "sourceId": 8682953,
     "sourceType": "datasetVersion"
    }
   ],
   "dockerImageVersionId": 30732,
   "isGpuEnabled": false,
   "isInternetEnabled": true,
   "language": "python",
   "sourceType": "notebook"
  },
  "kernelspec": {
   "display_name": "analytics",
   "language": "python",
   "name": "python3"
  },
  "language_info": {
   "codemirror_mode": {
    "name": "ipython",
    "version": 3
   },
   "file_extension": ".py",
   "mimetype": "text/x-python",
   "name": "python",
   "nbconvert_exporter": "python",
   "pygments_lexer": "ipython3",
   "version": "3.10.16"
  },
  "papermill": {
   "default_parameters": {},
   "duration": 14.24768,
   "end_time": "2024-06-15T06:43:56.936298",
   "environment_variables": {},
   "exception": null,
   "input_path": "__notebook__.ipynb",
   "output_path": "__notebook__.ipynb",
   "parameters": {},
   "start_time": "2024-06-15T06:43:42.688618",
   "version": "2.5.0"
  }
 },
 "nbformat": 4,
 "nbformat_minor": 4
}
